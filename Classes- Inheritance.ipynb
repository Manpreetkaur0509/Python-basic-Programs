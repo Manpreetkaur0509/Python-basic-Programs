{
 "cells": [
  {
   "cell_type": "markdown",
   "id": "56579070",
   "metadata": {},
   "source": [
    "## Creating Class\n",
    "\n",
    "def is used for defining ,  \n",
    "self is the paramenter "
   ]
  },
  {
   "cell_type": "code",
   "execution_count": 4,
   "id": "97d2d4b5",
   "metadata": {},
   "outputs": [],
   "source": [
    "class Phone:\n",
    "    \n",
    "    def make_call(self):\n",
    "        print(\"Making phone calls\")\n",
    "        \n",
    "    def play_games(self):\n",
    "        print(\"Playing Games\")\n",
    "        \n",
    "        \n"
   ]
  },
  {
   "cell_type": "markdown",
   "id": "aee24617",
   "metadata": {},
   "source": [
    "## Instatiating the 'p1' object"
   ]
  },
  {
   "cell_type": "code",
   "execution_count": 3,
   "id": "2dc0798f",
   "metadata": {},
   "outputs": [],
   "source": [
    "p1=Phone()        \n",
    "        "
   ]
  },
  {
   "cell_type": "markdown",
   "id": "35d77576",
   "metadata": {},
   "source": [
    "### invoking method through objects "
   ]
  },
  {
   "cell_type": "code",
   "execution_count": 5,
   "id": "e61dea53",
   "metadata": {},
   "outputs": [
    {
     "name": "stdout",
     "output_type": "stream",
     "text": [
      "Making phone calls\n"
     ]
    }
   ],
   "source": [
    "p1.make_call()"
   ]
  },
  {
   "cell_type": "code",
   "execution_count": 6,
   "id": "6a541ca9",
   "metadata": {},
   "outputs": [
    {
     "name": "stdout",
     "output_type": "stream",
     "text": [
      "Playing Games\n"
     ]
    }
   ],
   "source": [
    "p1.play_games()"
   ]
  },
  {
   "cell_type": "markdown",
   "id": "20a86cd8",
   "metadata": {},
   "source": [
    "### Setting and returning the attribute values "
   ]
  },
  {
   "cell_type": "code",
   "execution_count": 9,
   "id": "a55cb7e1",
   "metadata": {},
   "outputs": [],
   "source": [
    "class Phone:\n",
    "    def set_color(self,color):\n",
    "        self.color=color\n",
    "        \n",
    "    def set_cost(self,cost):\n",
    "        self.cost=cost\n",
    "        \n",
    "    def show_color(self):\n",
    "        return self.color\n",
    "    \n",
    "    def show_cost(self):\n",
    "        return self.cost\n",
    "    \n",
    "    def make_call(self):\n",
    "        print(\"Making Phone call\")\n",
    "        \n",
    "    def play_games(self):\n",
    "        print(\"Playing Games\")\n",
    "        \n",
    "    "
   ]
  },
  {
   "cell_type": "code",
   "execution_count": 10,
   "id": "e19e6aa5",
   "metadata": {},
   "outputs": [],
   "source": [
    "p2= Phone()"
   ]
  },
  {
   "cell_type": "code",
   "execution_count": 11,
   "id": "0f3f4309",
   "metadata": {},
   "outputs": [],
   "source": [
    "p2.set_color(\"blue\")"
   ]
  },
  {
   "cell_type": "code",
   "execution_count": 12,
   "id": "b67963ee",
   "metadata": {},
   "outputs": [],
   "source": [
    "p2.set_cost(5000)"
   ]
  },
  {
   "cell_type": "code",
   "execution_count": 13,
   "id": "6aa3b813",
   "metadata": {},
   "outputs": [
    {
     "data": {
      "text/plain": [
       "'blue'"
      ]
     },
     "execution_count": 13,
     "metadata": {},
     "output_type": "execute_result"
    }
   ],
   "source": [
    "p2.show_color()\n"
   ]
  },
  {
   "cell_type": "code",
   "execution_count": 14,
   "id": "4698ddc4",
   "metadata": {},
   "outputs": [
    {
     "data": {
      "text/plain": [
       "5000"
      ]
     },
     "execution_count": 14,
     "metadata": {},
     "output_type": "execute_result"
    }
   ],
   "source": [
    "p2.show_cost()"
   ]
  },
  {
   "cell_type": "code",
   "execution_count": 15,
   "id": "246a1ed4",
   "metadata": {},
   "outputs": [
    {
     "name": "stdout",
     "output_type": "stream",
     "text": [
      "Making Phone call\n"
     ]
    }
   ],
   "source": [
    "p2.make_call()"
   ]
  },
  {
   "cell_type": "code",
   "execution_count": 16,
   "id": "0b1cfcff",
   "metadata": {},
   "outputs": [
    {
     "name": "stdout",
     "output_type": "stream",
     "text": [
      "Playing Games\n"
     ]
    }
   ],
   "source": [
    "p2.play_games()"
   ]
  },
  {
   "cell_type": "markdown",
   "id": "06acefc7",
   "metadata": {},
   "source": [
    "# init method acts as constructor"
   ]
  },
  {
   "cell_type": "code",
   "execution_count": 22,
   "id": "ef70261c",
   "metadata": {},
   "outputs": [],
   "source": [
    "class Employee:\n",
    "    def __init__(self,name,age,salary,gender):\n",
    "        self.name=name\n",
    "        self.age=age\n",
    "        self.salary=salary\n",
    "        self.gender=gender\n",
    "        \n",
    "        \n",
    "    def employee_details(self):\n",
    "        print(\"Name of employee is \" , self.name)\n",
    "        print(\"Age of employee is \", self.age )\n",
    "        print(\"Salary of employee is \" , self.salary )\n",
    "        print( \"Gender of employee is \" , self.gender )"
   ]
  },
  {
   "cell_type": "code",
   "execution_count": 23,
   "id": "707eeccb",
   "metadata": {},
   "outputs": [],
   "source": [
    "e1=Employee('Sam', 32, 85000, 'Male')"
   ]
  },
  {
   "cell_type": "code",
   "execution_count": 25,
   "id": "489a5c2f",
   "metadata": {},
   "outputs": [
    {
     "name": "stdout",
     "output_type": "stream",
     "text": [
      "Name of employee is  Sam\n",
      "Age of employee is  32\n",
      "Salary of employee is  85000\n",
      "Gender of employee is  Male\n"
     ]
    }
   ],
   "source": [
    "e1.employee_details()"
   ]
  },
  {
   "cell_type": "markdown",
   "id": "3f5a1652",
   "metadata": {},
   "source": [
    "### Inheritance Example\n"
   ]
  },
  {
   "cell_type": "markdown",
   "id": "b4cb8ddf",
   "metadata": {},
   "source": [
    "# Super Class"
   ]
  },
  {
   "cell_type": "code",
   "execution_count": 72,
   "id": "04742864",
   "metadata": {},
   "outputs": [],
   "source": [
    "class Vehicle:\n",
    "    def __init__(self,mileage,cost):\n",
    "        self.mileage=mileage    \n",
    "        self.cost=cost\n",
    "    \n",
    "    \n",
    "    def show_vehicle_details(self):\n",
    "        \n",
    "        print(\"I am a vehicle\")\n",
    "        print(\"Mileage of Vehicle is \", self.mileage)\n",
    "        print(\"Cost of Vehicle $ \" , self.cost)"
   ]
  },
  {
   "cell_type": "markdown",
   "id": "eb49e09c",
   "metadata": {},
   "source": [
    "## Instantiating the object for child class\n",
    "\n",
    "\n",
    "\n"
   ]
  },
  {
   "cell_type": "code",
   "execution_count": 91,
   "id": "7185e3a2",
   "metadata": {},
   "outputs": [],
   "source": [
    "v1=Vehicle(50,8000)"
   ]
  },
  {
   "cell_type": "code",
   "execution_count": 90,
   "id": "5bd899f8",
   "metadata": {},
   "outputs": [
    {
     "name": "stdout",
     "output_type": "stream",
     "text": [
      "I am a vehicle\n",
      "Mileage of Vehicle is  50\n",
      "Cost of Vehicle $  8000\n"
     ]
    }
   ],
   "source": [
    "# Invoking function:\n",
    "\n",
    "v1.show_vehicle_details()"
   ]
  },
  {
   "cell_type": "markdown",
   "id": "26c6298a",
   "metadata": {},
   "source": [
    "# creating the child class"
   ]
  },
  {
   "cell_type": "code",
   "execution_count": 85,
   "id": "732aff6e",
   "metadata": {},
   "outputs": [],
   "source": [
    "class Car(Vehicle):\n",
    "    def show_car_details(self):    \n",
    "        print (\" I am a car \")\n",
    "        "
   ]
  },
  {
   "cell_type": "code",
   "execution_count": 86,
   "id": "27669ee6",
   "metadata": {},
   "outputs": [],
   "source": [
    "c1=Car(200,1200) # 2 paraments mileage and cost"
   ]
  },
  {
   "cell_type": "code",
   "execution_count": 87,
   "id": "00894196",
   "metadata": {},
   "outputs": [
    {
     "name": "stdout",
     "output_type": "stream",
     "text": [
      "I am a vehicle\n",
      "Mileage of Vehicle is  200\n",
      "Cost of Vehicle $  1200\n"
     ]
    }
   ],
   "source": [
    "c1.show_vehicle_details()"
   ]
  },
  {
   "cell_type": "code",
   "execution_count": 88,
   "id": "c1419e53",
   "metadata": {},
   "outputs": [
    {
     "name": "stdout",
     "output_type": "stream",
     "text": [
      " I am a car \n"
     ]
    }
   ],
   "source": [
    "c1.show_car_details()"
   ]
  },
  {
   "cell_type": "markdown",
   "id": "6ac0ba29",
   "metadata": {},
   "source": [
    "## Over-riding int method "
   ]
  },
  {
   "cell_type": "code",
   "execution_count": 96,
   "id": "2bc315d3",
   "metadata": {},
   "outputs": [],
   "source": [
    "class Car(Vehicle):\n",
    "    \n",
    "    def __init__(self,mileage,cost,tyres,hp):\n",
    "        super().__init__(mileage,cost)\n",
    "        self.tyres = tyres\n",
    "        self.hp =hp\n",
    "        \n",
    "    def show_car_details(self):\n",
    "        print(\"I am a car \")\n",
    "        print(\" Number of tyres are \", self.tyres)\n",
    "        print(\"value of horse power is \", self.hp)"
   ]
  },
  {
   "cell_type": "code",
   "execution_count": 92,
   "id": "02cef6d0",
   "metadata": {},
   "outputs": [],
   "source": [
    "### Invoking show_details( ) method from parent class"
   ]
  },
  {
   "cell_type": "code",
   "execution_count": 97,
   "id": "460b6ef7",
   "metadata": {},
   "outputs": [],
   "source": [
    "c1=Car(20,12000,4,300)"
   ]
  },
  {
   "cell_type": "code",
   "execution_count": 99,
   "id": "44b2da96",
   "metadata": {},
   "outputs": [
    {
     "name": "stdout",
     "output_type": "stream",
     "text": [
      "I am a car \n",
      " Number of tyres are  4\n",
      "value of horse power is  300\n"
     ]
    }
   ],
   "source": [
    "c1.show_car_details()"
   ]
  },
  {
   "cell_type": "code",
   "execution_count": 100,
   "id": "022d9e19",
   "metadata": {},
   "outputs": [
    {
     "name": "stdout",
     "output_type": "stream",
     "text": [
      "I am a vehicle\n",
      "Mileage of Vehicle is  20\n",
      "Cost of Vehicle $  12000\n"
     ]
    }
   ],
   "source": [
    "c1.show_vehicle_details()"
   ]
  },
  {
   "cell_type": "markdown",
   "id": "334650fa",
   "metadata": {},
   "source": [
    "# Mutiple Inheritance "
   ]
  },
  {
   "cell_type": "code",
   "execution_count": 140,
   "id": "b7f51426",
   "metadata": {},
   "outputs": [],
   "source": [
    "class parent1:\n",
    "    def assign_string_one(self,str1):\n",
    "        self.str1 = str1\n",
    "        \n",
    "    def show_string_one (self):\n",
    "        return self.str1"
   ]
  },
  {
   "cell_type": "code",
   "execution_count": 116,
   "id": "fd8671d2",
   "metadata": {},
   "outputs": [],
   "source": [
    "class parent2:\n",
    "    def assign_string_two(self,str2):\n",
    "        self.str2=str2\n",
    "    def show_string_two(self):\n",
    "        return self.str2"
   ]
  },
  {
   "cell_type": "code",
   "execution_count": 131,
   "id": "f4f9dfbc",
   "metadata": {},
   "outputs": [],
   "source": [
    "class child(parent1,parent2):\n",
    "    def assign_string_three(self,str3):\n",
    "        self.str3=str3\n",
    "        \n",
    "    def show_string_three(self):\n",
    "        return self.str3"
   ]
  },
  {
   "cell_type": "markdown",
   "id": "90a9e89c",
   "metadata": {},
   "source": [
    "# Instantiating object of child class "
   ]
  },
  {
   "cell_type": "code",
   "execution_count": 111,
   "id": "c3c9fcd4",
   "metadata": {},
   "outputs": [],
   "source": [
    "d1=child()  ## Create an instance of the child class"
   ]
  },
  {
   "cell_type": "code",
   "execution_count": 136,
   "id": "644e5196",
   "metadata": {},
   "outputs": [],
   "source": [
    "d1.assign_string_one(\"I am string of Parent 1\") # # Assign a string using the parent1 method"
   ]
  },
  {
   "cell_type": "code",
   "execution_count": 145,
   "id": "a031131c",
   "metadata": {},
   "outputs": [],
   "source": [
    "d1.assign_string_two(\"I am string of parent 2\")"
   ]
  },
  {
   "cell_type": "code",
   "execution_count": 127,
   "id": "42d3d091",
   "metadata": {},
   "outputs": [],
   "source": [
    "d1.assign_string_three(\"I am string of child class\")"
   ]
  },
  {
   "cell_type": "markdown",
   "id": "3848bc58",
   "metadata": {},
   "source": [
    "## Invoking methods"
   ]
  },
  {
   "cell_type": "code",
   "execution_count": 142,
   "id": "cc6d5dd4",
   "metadata": {},
   "outputs": [
    {
     "data": {
      "text/plain": [
       "'I am string of Parent 1'"
      ]
     },
     "execution_count": 142,
     "metadata": {},
     "output_type": "execute_result"
    }
   ],
   "source": [
    "d1.show_string_one()  # Access the string using the show_string_one method from parent1"
   ]
  },
  {
   "cell_type": "code",
   "execution_count": 146,
   "id": "a99fdae4",
   "metadata": {},
   "outputs": [
    {
     "data": {
      "text/plain": [
       "'I am string of parent 2'"
      ]
     },
     "execution_count": 146,
     "metadata": {},
     "output_type": "execute_result"
    }
   ],
   "source": [
    "\n",
    "d1.show_string_two()"
   ]
  },
  {
   "cell_type": "code",
   "execution_count": 122,
   "id": "caeb720d",
   "metadata": {},
   "outputs": [
    {
     "data": {
      "text/plain": [
       "'I am string of child class'"
      ]
     },
     "execution_count": 122,
     "metadata": {},
     "output_type": "execute_result"
    }
   ],
   "source": [
    "d1.show_string_three()"
   ]
  },
  {
   "cell_type": "markdown",
   "id": "528b8328",
   "metadata": {},
   "source": [
    "# Multilevel Inheritance "
   ]
  },
  {
   "cell_type": "code",
   "execution_count": 173,
   "id": "b9c3b757",
   "metadata": {},
   "outputs": [],
   "source": [
    "class parent:\n",
    "    def assign_name(self,name):\n",
    "        self.name= name\n",
    "        \n",
    "    def show_name(self):\n",
    "        return self.name"
   ]
  },
  {
   "cell_type": "code",
   "execution_count": 174,
   "id": "e2308e90",
   "metadata": {},
   "outputs": [],
   "source": [
    "class child(parent):\n",
    "    \n",
    "    def assign_age(self,age):\n",
    "        self.age=age\n",
    "        \n",
    "    def show_age(self):\n",
    "        return self.age\n",
    "        "
   ]
  },
  {
   "cell_type": "code",
   "execution_count": 175,
   "id": "d8e83829",
   "metadata": {},
   "outputs": [],
   "source": [
    "class grandchild(child):\n",
    "    \n",
    "    def assign_gender(self,gender):\n",
    "        self.gender=gender\n",
    "        \n",
    "    def show_gender(self):\n",
    "        return self.gender\n",
    "    "
   ]
  },
  {
   "cell_type": "markdown",
   "id": "f9eb43e8",
   "metadata": {},
   "source": [
    "### Create an instance of the grandchild class\n"
   ]
  },
  {
   "cell_type": "code",
   "execution_count": null,
   "id": "18941732",
   "metadata": {},
   "outputs": [],
   "source": [
    "\n",
    "c=grandchild()"
   ]
  },
  {
   "cell_type": "markdown",
   "id": "2bd6cb8e",
   "metadata": {},
   "source": [
    "### Call the methods to assign and retrieve values"
   ]
  },
  {
   "cell_type": "code",
   "execution_count": 178,
   "id": "4f2d0396",
   "metadata": {},
   "outputs": [],
   "source": [
    "c.assign_name(\"Manpreet Kaur\")"
   ]
  },
  {
   "cell_type": "code",
   "execution_count": 179,
   "id": "840c8661",
   "metadata": {},
   "outputs": [],
   "source": [
    "c.assign_age(32)"
   ]
  },
  {
   "cell_type": "code",
   "execution_count": 180,
   "id": "c8ca66c4",
   "metadata": {},
   "outputs": [],
   "source": [
    "c.assign_gender('Female')"
   ]
  },
  {
   "cell_type": "markdown",
   "id": "1298fd3e",
   "metadata": {},
   "source": [
    "### Retrieve and print the values"
   ]
  },
  {
   "cell_type": "code",
   "execution_count": 181,
   "id": "b512b2b0",
   "metadata": {},
   "outputs": [
    {
     "data": {
      "text/plain": [
       "'Manpreet Kaur'"
      ]
     },
     "execution_count": 181,
     "metadata": {},
     "output_type": "execute_result"
    }
   ],
   "source": [
    "c.show_name()"
   ]
  },
  {
   "cell_type": "code",
   "execution_count": 182,
   "id": "c0f0216e",
   "metadata": {},
   "outputs": [
    {
     "data": {
      "text/plain": [
       "32"
      ]
     },
     "execution_count": 182,
     "metadata": {},
     "output_type": "execute_result"
    }
   ],
   "source": [
    "c.show_age()"
   ]
  },
  {
   "cell_type": "code",
   "execution_count": 183,
   "id": "a7efd81b",
   "metadata": {},
   "outputs": [
    {
     "data": {
      "text/plain": [
       "'Female'"
      ]
     },
     "execution_count": 183,
     "metadata": {},
     "output_type": "execute_result"
    }
   ],
   "source": [
    "c.show_gender()"
   ]
  },
  {
   "cell_type": "code",
   "execution_count": null,
   "id": "76fd5d52",
   "metadata": {},
   "outputs": [],
   "source": []
  }
 ],
 "metadata": {
  "kernelspec": {
   "display_name": "Python 3 (ipykernel)",
   "language": "python",
   "name": "python3"
  },
  "language_info": {
   "codemirror_mode": {
    "name": "ipython",
    "version": 3
   },
   "file_extension": ".py",
   "mimetype": "text/x-python",
   "name": "python",
   "nbconvert_exporter": "python",
   "pygments_lexer": "ipython3",
   "version": "3.11.4"
  }
 },
 "nbformat": 4,
 "nbformat_minor": 5
}
