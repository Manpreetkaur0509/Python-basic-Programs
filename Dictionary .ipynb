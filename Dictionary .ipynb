{
 "cells": [
  {
   "cell_type": "markdown",
   "id": "d56ef9b1",
   "metadata": {},
   "source": [
    "# Dictionary \n",
    "\n",
    "Dictionaries are used to store data values in key:value pairs.\n",
    "\n",
    "Dictionary items are\n",
    "\n",
    "### Ordered \n",
    "### Changeable\n",
    "### Does not allow duplicates\n",
    "\n",
    "Dictionary items are presented in key:value pairs,\n",
    "and can be referred to by using the key name.\n",
    "    \n",
    "Dictionaries are written with curly brackets, and have keys and values\n",
    "\n"
   ]
  },
  {
   "cell_type": "code",
   "execution_count": 1,
   "id": "3f79ee78",
   "metadata": {},
   "outputs": [
    {
     "name": "stdout",
     "output_type": "stream",
     "text": [
      "{'brand': 'Ford', 'model': 'Mustang', 'year': 1964}\n"
     ]
    }
   ],
   "source": [
    "# Create and print a dictionary:\n",
    "\n",
    "thisdict = {\n",
    "  \"brand\": \"Ford\",\n",
    "  \"model\": \"Mustang\",\n",
    "  \"year\": 1964\n",
    "}\n",
    "print(thisdict)"
   ]
  },
  {
   "cell_type": "code",
   "execution_count": 13,
   "id": "911714e7",
   "metadata": {},
   "outputs": [
    {
     "name": "stdout",
     "output_type": "stream",
     "text": [
      "{'name': 'Manpreet Kaur ', 'age': 32, 'is_verified': True}\n"
     ]
    }
   ],
   "source": [
    "customer = {\n",
    "    \n",
    "    \"name\": \"Manpreet Kaur \",\n",
    "    \"age\" : 32,\n",
    "    \"is_verified\" : True\n",
    " }\n",
    "\n",
    "print (customer)"
   ]
  },
  {
   "cell_type": "code",
   "execution_count": 14,
   "id": "e32bd5e0",
   "metadata": {},
   "outputs": [
    {
     "name": "stdout",
     "output_type": "stream",
     "text": [
      "Manpreet Kaur \n"
     ]
    }
   ],
   "source": [
    "print(customer['name'])"
   ]
  },
  {
   "cell_type": "code",
   "execution_count": 15,
   "id": "4ae6232c",
   "metadata": {},
   "outputs": [
    {
     "ename": "KeyError",
     "evalue": "'birthdate'",
     "output_type": "error",
     "traceback": [
      "\u001b[1;31m---------------------------------------------------------------------------\u001b[0m",
      "\u001b[1;31mKeyError\u001b[0m                                  Traceback (most recent call last)",
      "Cell \u001b[1;32mIn[15], line 1\u001b[0m\n\u001b[1;32m----> 1\u001b[0m \u001b[38;5;28mprint\u001b[39m(customer[\u001b[38;5;124m'\u001b[39m\u001b[38;5;124mbirthdate\u001b[39m\u001b[38;5;124m'\u001b[39m])\n",
      "\u001b[1;31mKeyError\u001b[0m: 'birthdate'"
     ]
    }
   ],
   "source": [
    "# to check if any key value exist ?\n",
    "# it returns with an error\n",
    "\n",
    "print(customer['birthdate'])"
   ]
  },
  {
   "cell_type": "code",
   "execution_count": 16,
   "id": "969f62c7",
   "metadata": {},
   "outputs": [
    {
     "ename": "KeyError",
     "evalue": "'Name'",
     "output_type": "error",
     "traceback": [
      "\u001b[1;31m---------------------------------------------------------------------------\u001b[0m",
      "\u001b[1;31mKeyError\u001b[0m                                  Traceback (most recent call last)",
      "Cell \u001b[1;32mIn[16], line 1\u001b[0m\n\u001b[1;32m----> 1\u001b[0m \u001b[38;5;28mprint\u001b[39m(customer[\u001b[38;5;124m'\u001b[39m\u001b[38;5;124mName\u001b[39m\u001b[38;5;124m'\u001b[39m])\n",
      "\u001b[1;31mKeyError\u001b[0m: 'Name'"
     ]
    }
   ],
   "source": [
    "# same error is coming again as it cant make a difference betwen name or Name\n",
    "\n",
    "print(customer['Name'])"
   ]
  },
  {
   "cell_type": "code",
   "execution_count": 18,
   "id": "6342805d",
   "metadata": {},
   "outputs": [
    {
     "name": "stdout",
     "output_type": "stream",
     "text": [
      "None\n"
     ]
    }
   ],
   "source": [
    "# way to fix is using get() method \n",
    "#so that we get NOne as output istead of an error while checking existenance of key value \n",
    "\n",
    "print(customer.get(\"birthdate\"))"
   ]
  },
  {
   "cell_type": "code",
   "execution_count": 20,
   "id": "c611a5b9",
   "metadata": {},
   "outputs": [
    {
     "name": "stdout",
     "output_type": "stream",
     "text": [
      "None\n"
     ]
    }
   ],
   "source": [
    "print(customer.get(\"Name\"))"
   ]
  },
  {
   "cell_type": "code",
   "execution_count": 21,
   "id": "de1d2b0f",
   "metadata": {},
   "outputs": [
    {
     "name": "stdout",
     "output_type": "stream",
     "text": [
      "Jan 1 1980\n"
     ]
    }
   ],
   "source": [
    "print(customer.get(\"birthdate\",\"Jan 1 1980\"))"
   ]
  },
  {
   "cell_type": "code",
   "execution_count": 23,
   "id": "a1da0524",
   "metadata": {},
   "outputs": [
    {
     "data": {
      "text/plain": [
       "'Manpreet Kaur Dhingra '"
      ]
     },
     "execution_count": 23,
     "metadata": {},
     "output_type": "execute_result"
    }
   ],
   "source": [
    "# update values \n",
    "\n",
    "customer[\"name\"]= \"Manpreet Kaur Dhingra \"\n",
    "customer[\"name\"]"
   ]
  },
  {
   "cell_type": "code",
   "execution_count": 24,
   "id": "11d461b5",
   "metadata": {},
   "outputs": [
    {
     "data": {
      "text/plain": [
       "{'name': 'Manpreet Kaur Dhingra ',\n",
       " 'age': 32,\n",
       " 'is_verified': True,\n",
       " 'birthdate': 'september 4 1991'}"
      ]
     },
     "execution_count": 24,
     "metadata": {},
     "output_type": "execute_result"
    }
   ],
   "source": [
    "# add a new key : value pair\n",
    "\n",
    "customer[\"birthdate\"]= \"september 4 1991\"\n",
    "\n",
    "customer"
   ]
  },
  {
   "cell_type": "code",
   "execution_count": 41,
   "id": "58b6f611",
   "metadata": {},
   "outputs": [
    {
     "name": "stdout",
     "output_type": "stream",
     "text": [
      "phone :9900\n"
     ]
    },
    {
     "data": {
      "text/plain": [
       "'Nine Nine !  !  '"
      ]
     },
     "execution_count": 41,
     "metadata": {},
     "output_type": "execute_result"
    }
   ],
   "source": [
    "# write a program to enter numbers and convert it into words \n",
    "\n",
    "phone= input(\"phone :\")\n",
    "\n",
    "digits_mapping = {\n",
    "    \n",
    "    \"1\" : \"One\",\n",
    "    \"2\": \"Two\",\n",
    "    \"3\": \"Three\" ,\n",
    "    \"4\":\"Four\",\n",
    "    \"5\" :\"Five\" ,\n",
    "    \"6\" : \"Six\" ,\n",
    "    \"7\" : \"Seven\",\n",
    "    \"8\": \"Eight\",\n",
    "    \"9\" : \"Nine\" ,\n",
    "    \n",
    "}\n",
    "output=\"\"\n",
    "for CH in phone :\n",
    "    output +=digits_mapping.get(CH,  \"! \")+ \" \"\n",
    "\n",
    "output\n"
   ]
  },
  {
   "cell_type": "code",
   "execution_count": null,
   "id": "8a26caf9",
   "metadata": {},
   "outputs": [],
   "source": []
  }
 ],
 "metadata": {
  "kernelspec": {
   "display_name": "Python 3 (ipykernel)",
   "language": "python",
   "name": "python3"
  },
  "language_info": {
   "codemirror_mode": {
    "name": "ipython",
    "version": 3
   },
   "file_extension": ".py",
   "mimetype": "text/x-python",
   "name": "python",
   "nbconvert_exporter": "python",
   "pygments_lexer": "ipython3",
   "version": "3.11.4"
  }
 },
 "nbformat": 4,
 "nbformat_minor": 5
}
