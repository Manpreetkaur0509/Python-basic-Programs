{
 "cells": [
  {
   "cell_type": "markdown",
   "id": "b5a56410",
   "metadata": {},
   "source": [
    "# Emoji convertor using dictionary "
   ]
  },
  {
   "cell_type": "code",
   "execution_count": 2,
   "id": "ed613566",
   "metadata": {},
   "outputs": [
    {
     "name": "stdout",
     "output_type": "stream",
     "text": [
      "hi >Good Morning sunshine\n",
      "['Good', 'Morning', 'sunshine']\n"
     ]
    }
   ],
   "source": [
    "message = input(\"hi >\")\n",
    "words = message.split(' ')\n",
    "print(words)"
   ]
  },
  {
   "cell_type": "code",
   "execution_count": 15,
   "id": "49059974",
   "metadata": {
    "scrolled": true
   },
   "outputs": [
    {
     "name": "stdout",
     "output_type": "stream",
     "text": [
      "hi >mani :)\n",
      "mani 😀 \n"
     ]
    }
   ],
   "source": [
    "message = input(\"hi >\")\n",
    "words = message.split(' ')\n",
    "emojis = {\n",
    "    \":)\": \"😀\" ,\n",
    "    \":(\": \"😔\" ,\n",
    "    \":(\": \"😞\",\n",
    "    \":-)\": \"😊\",\n",
    "    \"LOL\": \"😂\",\n",
    "    \n",
    "}\n",
    "\n",
    "output= \"\"\n",
    "for item in words:\n",
    "   output+= emojis.get(item , item ) + \" \"\n",
    "\n",
    "print(output)\n"
   ]
  }
 ],
 "metadata": {
  "kernelspec": {
   "display_name": "Python 3 (ipykernel)",
   "language": "python",
   "name": "python3"
  },
  "language_info": {
   "codemirror_mode": {
    "name": "ipython",
    "version": 3
   },
   "file_extension": ".py",
   "mimetype": "text/x-python",
   "name": "python",
   "nbconvert_exporter": "python",
   "pygments_lexer": "ipython3",
   "version": "3.11.4"
  }
 },
 "nbformat": 4,
 "nbformat_minor": 5
}
