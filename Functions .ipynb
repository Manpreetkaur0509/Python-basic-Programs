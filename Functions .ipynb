{
 "cells": [
  {
   "cell_type": "markdown",
   "id": "c38ebace",
   "metadata": {},
   "source": [
    "## FUNCTIONS "
   ]
  },
  {
   "cell_type": "code",
   "execution_count": 12,
   "id": "be725684",
   "metadata": {},
   "outputs": [],
   "source": [
    "# Defining function\n",
    "\n",
    "def greet_user():\n",
    "    print(\"Hi there !\")\n",
    "    print(\"Welcome Aboard\")\n",
    "    "
   ]
  },
  {
   "cell_type": "code",
   "execution_count": 13,
   "id": "e6d15fe6",
   "metadata": {},
   "outputs": [
    {
     "name": "stdout",
     "output_type": "stream",
     "text": [
      "Hi there !\n",
      "Welcome Aboard\n"
     ]
    }
   ],
   "source": [
    "#Calling the function \n",
    "\n",
    "greet_user()"
   ]
  },
  {
   "cell_type": "markdown",
   "id": "70b413f4",
   "metadata": {},
   "source": [
    "### Always define the function first using reserved keyword def and then only call it "
   ]
  },
  {
   "cell_type": "code",
   "execution_count": 2,
   "id": "5c6862d2",
   "metadata": {},
   "outputs": [
    {
     "name": "stdout",
     "output_type": "stream",
     "text": [
      "Start\n",
      "Hi there !\n",
      "Welcome Aboard\n",
      "Finish\n"
     ]
    }
   ],
   "source": [
    "def greet_user():\n",
    "    print(\"Hi there !\")\n",
    "    print(\"Welcome Aboard\")\n",
    "    \n",
    "    \n",
    "print(\"Start\")\n",
    "greet_user()\n",
    "print(\"Finish\")\n",
    "    \n",
    "    "
   ]
  },
  {
   "cell_type": "markdown",
   "id": "6e7f455f",
   "metadata": {},
   "source": [
    "#### using an argument and forrmatter string structure "
   ]
  },
  {
   "cell_type": "code",
   "execution_count": 7,
   "id": "b8eb0e6d",
   "metadata": {},
   "outputs": [
    {
     "name": "stdout",
     "output_type": "stream",
     "text": [
      "Start\n",
      "hi Manpreet\n",
      "Welcome Aboard\n",
      "Finish\n"
     ]
    }
   ],
   "source": [
    "def greet_user(name):\n",
    "    print(f\"hi { name }\")\n",
    "    print(\"Welcome Aboard\")\n",
    "\n",
    "    \n",
    "print(\"Start\")\n",
    "greet_user(\"Manpreet\")\n",
    "print(\"Finish\")\n",
    "    \n",
    "    "
   ]
  },
  {
   "cell_type": "markdown",
   "id": "8749e44d",
   "metadata": {},
   "source": [
    "###"
   ]
  },
  {
   "cell_type": "code",
   "execution_count": 8,
   "id": "21c4df71",
   "metadata": {},
   "outputs": [
    {
     "name": "stdout",
     "output_type": "stream",
     "text": [
      "Start\n",
      "hi Manpreet\n",
      "Welcome Aboard\n",
      "hi Marry\n",
      "Welcome Aboard\n",
      "Finish\n"
     ]
    }
   ],
   "source": [
    "def greet_user(name):\n",
    "    print(f\"hi { name }\")\n",
    "    print(\"Welcome Aboard\")\n",
    "\n",
    "    \n",
    "print(\"Start\")\n",
    "greet_user(\"Manpreet\")\n",
    "greet_user(\"Marry\")\n",
    "print(\"Finish\")"
   ]
  },
  {
   "cell_type": "markdown",
   "id": "063f011c",
   "metadata": {},
   "source": [
    "### Positional arguments "
   ]
  },
  {
   "cell_type": "code",
   "execution_count": 10,
   "id": "09f3f9c2",
   "metadata": {},
   "outputs": [
    {
     "name": "stdout",
     "output_type": "stream",
     "text": [
      "Start\n",
      "Hi Manpreet Kaur\n",
      "Welcome Aboard\n",
      "Finish\n"
     ]
    }
   ],
   "source": [
    "def greet_user(first_name , last_name):\n",
    "    print(f'Hi {first_name} {last_name}')\n",
    "    print(\"Welcome Aboard\")\n",
    "\n",
    "    \n",
    "print(\"Start\")\n",
    "greet_user(\"Manpreet\",\"Kaur\")\n",
    "\n",
    "print(\"Finish\")"
   ]
  },
  {
   "cell_type": "code",
   "execution_count": 16,
   "id": "2039ae4e",
   "metadata": {},
   "outputs": [
    {
     "name": "stdout",
     "output_type": "stream",
     "text": [
      "Start\n",
      "Hi Singh Prasandeep\n",
      "Welcome Aboard\n",
      "Finish\n"
     ]
    }
   ],
   "source": [
    "def greet_user(first_name , last_name):\n",
    "    print(f'Hi {first_name} {last_name}')\n",
    "    print(\"Welcome Aboard\")\n",
    "\n",
    "    \n",
    "print(\"Start\")\n",
    "greet_user(\"Singh\",\"Prasandeep\")\n",
    "\n",
    "print(\"Finish\")"
   ]
  },
  {
   "cell_type": "markdown",
   "id": "84753b1f",
   "metadata": {},
   "source": [
    "### Keyword Arguments "
   ]
  },
  {
   "cell_type": "code",
   "execution_count": 18,
   "id": "29f4f561",
   "metadata": {},
   "outputs": [
    {
     "name": "stdout",
     "output_type": "stream",
     "text": [
      "Start\n",
      "Hi Prasandeep Singh\n",
      "Welcome Aboard\n",
      "Finish\n"
     ]
    }
   ],
   "source": [
    "def greet_user(first_name , last_name):\n",
    "    print(f'Hi {first_name} {last_name}')\n",
    "    print(\"Welcome Aboard\")\n",
    "\n",
    "    \n",
    "print(\"Start\")\n",
    "greet_user(last_name=\"Singh\",first_name=\"Prasandeep\")\n",
    "\n",
    "print(\"Finish\")"
   ]
  },
  {
   "cell_type": "code",
   "execution_count": 15,
   "id": "264ea7eb",
   "metadata": {},
   "outputs": [
    {
     "name": "stdout",
     "output_type": "stream",
     "text": [
      "Start\n",
      "Hi Manpreet Kaur\n",
      "Welcome Aboard\n",
      "Finish\n"
     ]
    }
   ],
   "source": [
    "def greet_user(first_name , last_name):\n",
    "    print(f'Hi {first_name} {last_name}')\n",
    "    print(\"Welcome Aboard\")\n",
    "\n",
    "    \n",
    "print(\"Start\")\n",
    "greet_user(last_name=\"Kaur\",first_name=\"Manpreet\")\n",
    "\n",
    "print(\"Finish\")"
   ]
  },
  {
   "cell_type": "markdown",
   "id": "489d6a1d",
   "metadata": {},
   "source": [
    "## Always use positional arguments first and then keyword arguments "
   ]
  },
  {
   "cell_type": "code",
   "execution_count": 19,
   "id": "60b93673",
   "metadata": {},
   "outputs": [
    {
     "ename": "SyntaxError",
     "evalue": "positional argument follows keyword argument (2259242620.py, line 2)",
     "output_type": "error",
     "traceback": [
      "\u001b[1;36m  Cell \u001b[1;32mIn[19], line 2\u001b[1;36m\u001b[0m\n\u001b[1;33m    greet_user(last_name=\"Kaur\",\"Manpreet\")\u001b[0m\n\u001b[1;37m                                          ^\u001b[0m\n\u001b[1;31mSyntaxError\u001b[0m\u001b[1;31m:\u001b[0m positional argument follows keyword argument\n"
     ]
    }
   ],
   "source": [
    "print(\"Start\")\n",
    "greet_user(last_name=\"Kaur\",\"Manpreet\")\n",
    "\n",
    "print(\"Finish\")"
   ]
  },
  {
   "cell_type": "code",
   "execution_count": 21,
   "id": "c5ba89cc",
   "metadata": {},
   "outputs": [
    {
     "name": "stdout",
     "output_type": "stream",
     "text": [
      "Start\n",
      "Hi Kaur Manpreet\n",
      "Welcome Aboard\n",
      "Finish\n"
     ]
    }
   ],
   "source": [
    "print(\"Start\")\n",
    "greet_user(\"Kaur\",last_name=\"Manpreet\")\n",
    "\n",
    "print(\"Finish\")"
   ]
  },
  {
   "cell_type": "markdown",
   "id": "46ff1160",
   "metadata": {},
   "source": [
    "### Function returning numerical value"
   ]
  },
  {
   "cell_type": "code",
   "execution_count": 24,
   "id": "010322d7",
   "metadata": {},
   "outputs": [
    {
     "name": "stdout",
     "output_type": "stream",
     "text": [
      "9\n"
     ]
    }
   ],
   "source": [
    "def square(num):\n",
    "    return num*num\n",
    "\n",
    "output= square(3)\n",
    "print(output)"
   ]
  },
  {
   "cell_type": "code",
   "execution_count": 26,
   "id": "82d63e97",
   "metadata": {},
   "outputs": [
    {
     "name": "stdout",
     "output_type": "stream",
     "text": [
      "9\n"
     ]
    }
   ],
   "source": [
    "def square(num):\n",
    "    return num*num\n",
    "\n",
    "\n",
    "print(square(3))"
   ]
  },
  {
   "cell_type": "code",
   "execution_count": 28,
   "id": "72e4875f",
   "metadata": {},
   "outputs": [
    {
     "name": "stdout",
     "output_type": "stream",
     "text": [
      "9\n",
      "None\n"
     ]
    }
   ],
   "source": [
    "def square(num):\n",
    "    print(num*num)\n",
    "\n",
    "\n",
    "print(square(3))"
   ]
  },
  {
   "cell_type": "markdown",
   "id": "a74a7717",
   "metadata": {},
   "source": [
    "### if you dnt provide a return statement , bedefault it will provide none statement"
   ]
  },
  {
   "cell_type": "code",
   "execution_count": 29,
   "id": "5e32b719",
   "metadata": {},
   "outputs": [
    {
     "name": "stdout",
     "output_type": "stream",
     "text": [
      "9\n",
      "3\n"
     ]
    }
   ],
   "source": [
    "def square(num):\n",
    "    print(num*num)\n",
    "    return(3)\n",
    "\n",
    "\n",
    "print(square(3))"
   ]
  },
  {
   "cell_type": "code",
   "execution_count": null,
   "id": "ece1807a",
   "metadata": {},
   "outputs": [],
   "source": []
  }
 ],
 "metadata": {
  "kernelspec": {
   "display_name": "Python 3 (ipykernel)",
   "language": "python",
   "name": "python3"
  },
  "language_info": {
   "codemirror_mode": {
    "name": "ipython",
    "version": 3
   },
   "file_extension": ".py",
   "mimetype": "text/x-python",
   "name": "python",
   "nbconvert_exporter": "python",
   "pygments_lexer": "ipython3",
   "version": "3.11.4"
  }
 },
 "nbformat": 4,
 "nbformat_minor": 5
}
