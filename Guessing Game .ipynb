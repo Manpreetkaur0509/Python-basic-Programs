{
 "cells": [
  {
   "cell_type": "code",
   "execution_count": null,
   "id": "b205a2c8",
   "metadata": {},
   "outputs": [],
   "source": [
    "## guessing Game"
   ]
  },
  {
   "cell_type": "code",
   "execution_count": 3,
   "id": "cdcd54e7",
   "metadata": {},
   "outputs": [
    {
     "name": "stdout",
     "output_type": "stream",
     "text": [
      " Enter your choice please : 3\n",
      " Enter your choice please : 2\n",
      " Enter your choice please : 1\n",
      " Sorry :( Better Luck Next Time \n"
     ]
    }
   ],
   "source": [
    "secret_number = 9\n",
    "guess_count = 0\n",
    "guess_limit =3\n",
    "\n",
    "while guess_count < guess_limit:\n",
    "    guess = int (input (\" Enter your choice please : \"))\n",
    "    guess_count += 1\n",
    "    if guess == secret_number :\n",
    "        print (\" Hurray !! You won this Guessing game \")\n",
    "        break\n",
    "else:\n",
    "    print (\" Sorry :( Better Luck Next Time \")\n",
    "\n"
   ]
  },
  {
   "cell_type": "code",
   "execution_count": 4,
   "id": "81e485e5",
   "metadata": {},
   "outputs": [
    {
     "name": "stdout",
     "output_type": "stream",
     "text": [
      " Enter your choice please : 1\n",
      " Enter your choice please : 4\n",
      " Enter your choice please : 9\n",
      " Hurray !! You won this Guessing game \n"
     ]
    }
   ],
   "source": [
    "secret_number = 9\n",
    "guess_count = 0\n",
    "guess_limit =3\n",
    "\n",
    "while guess_count < guess_limit:\n",
    "    guess = int (input (\" Enter your choice please : \"))\n",
    "    guess_count += 1\n",
    "    if guess == secret_number :\n",
    "        print (\" Hurray !! You won this Guessing game \")\n",
    "        break\n",
    "else:\n",
    "    print (\" Sorry :( Better Luck Next Time \")"
   ]
  },
  {
   "cell_type": "code",
   "execution_count": 5,
   "id": "79377157",
   "metadata": {},
   "outputs": [
    {
     "name": "stdout",
     "output_type": "stream",
     "text": [
      " Enter your choice please : 1\n",
      " Enter your choice please : 9\n",
      " Hurray !! You won this Guessing game \n"
     ]
    }
   ],
   "source": [
    "secret_number = 9\n",
    "guess_count = 0\n",
    "guess_limit =3\n",
    "\n",
    "while guess_count < guess_limit:\n",
    "    guess = int (input (\" Enter your choice please : \"))\n",
    "    guess_count += 1\n",
    "    if guess == secret_number :\n",
    "        print (\" Hurray !! You won this Guessing game \")\n",
    "        break\n",
    "else:\n",
    "    print (\" Sorry :( Better Luck Next Time \")"
   ]
  },
  {
   "cell_type": "code",
   "execution_count": 6,
   "id": "2cf3adb2",
   "metadata": {},
   "outputs": [
    {
     "name": "stdout",
     "output_type": "stream",
     "text": [
      " Enter your choice please : 9\n",
      " Hurray !! You won this Guessing game \n"
     ]
    }
   ],
   "source": [
    "secret_number = 9\n",
    "guess_count = 0\n",
    "guess_limit =3\n",
    "\n",
    "while guess_count < guess_limit:\n",
    "    guess = int (input (\" Enter your choice please : \"))\n",
    "    guess_count += 1\n",
    "    if guess == secret_number :\n",
    "        print (\" Hurray !! You won this Guessing game \")\n",
    "        break\n",
    "else:\n",
    "    print (\" Sorry :( Better Luck Next Time \")"
   ]
  },
  {
   "cell_type": "code",
   "execution_count": null,
   "id": "68789b3f",
   "metadata": {},
   "outputs": [],
   "source": []
  }
 ],
 "metadata": {
  "kernelspec": {
   "display_name": "Python 3 (ipykernel)",
   "language": "python",
   "name": "python3"
  },
  "language_info": {
   "codemirror_mode": {
    "name": "ipython",
    "version": 3
   },
   "file_extension": ".py",
   "mimetype": "text/x-python",
   "name": "python",
   "nbconvert_exporter": "python",
   "pygments_lexer": "ipython3",
   "version": "3.11.4"
  }
 },
 "nbformat": 4,
 "nbformat_minor": 5
}
