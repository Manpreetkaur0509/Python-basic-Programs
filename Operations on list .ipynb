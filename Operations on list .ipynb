{
 "cells": [
  {
   "cell_type": "code",
   "execution_count": null,
   "id": "d5aa362f",
   "metadata": {},
   "outputs": [],
   "source": [
    "#operations on list \n",
    "# Writer: Manpreet Kaur \n",
    "\n"
   ]
  },
  {
   "cell_type": "code",
   "execution_count": 1,
   "id": "3817e47f",
   "metadata": {},
   "outputs": [
    {
     "data": {
      "text/plain": [
       "[5, 2, 4, 7, 4, 20]"
      ]
     },
     "execution_count": 1,
     "metadata": {},
     "output_type": "execute_result"
    }
   ],
   "source": [
    "# APPEND : ADD NUMBER AT THE END OF LIST \n",
    "\n",
    "numbers=[5,2,4,7,4]\n",
    "numbers.append(20)\n",
    "numbers"
   ]
  },
  {
   "cell_type": "code",
   "execution_count": 2,
   "id": "e70047d6",
   "metadata": {},
   "outputs": [
    {
     "data": {
      "text/plain": [
       "[10, 5, 2, 4, 7, 4]"
      ]
     },
     "execution_count": 2,
     "metadata": {},
     "output_type": "execute_result"
    }
   ],
   "source": [
    "#ADD IN BEGGING OR MIDDLE : USE INSERT METHOD\n",
    "\n",
    "\n",
    "numbers=[5,2,4,7,4]\n",
    "\n",
    "numbers.insert(0,10)\n",
    "\n",
    "\n",
    "numbers\n"
   ]
  },
  {
   "cell_type": "code",
   "execution_count": 3,
   "id": "19b149e8",
   "metadata": {},
   "outputs": [
    {
     "data": {
      "text/plain": [
       "[5, 2, 4, 10, 7, 4]"
      ]
     },
     "execution_count": 3,
     "metadata": {},
     "output_type": "execute_result"
    }
   ],
   "source": [
    "numbers=[5,2,4,7,4]\n",
    "\n",
    "numbers.insert(3,10)\n",
    "\n",
    "\n",
    "numbers"
   ]
  },
  {
   "cell_type": "code",
   "execution_count": 4,
   "id": "f48f30a0",
   "metadata": {},
   "outputs": [
    {
     "data": {
      "text/plain": [
       "[2, 4, 7, 4]"
      ]
     },
     "execution_count": 4,
     "metadata": {},
     "output_type": "execute_result"
    }
   ],
   "source": [
    "# REMOVE a NUMBER\n",
    "\n",
    "numbers=[5,2,4,7,4]\n",
    "\n",
    "numbers.remove(5)\n",
    "\n",
    "\n",
    "numbers"
   ]
  },
  {
   "cell_type": "code",
   "execution_count": 5,
   "id": "e505e5c1",
   "metadata": {},
   "outputs": [
    {
     "data": {
      "text/plain": [
       "[]"
      ]
     },
     "execution_count": 5,
     "metadata": {},
     "output_type": "execute_result"
    }
   ],
   "source": [
    "# clear method to empty our list \n",
    "\n",
    "numbers = [5,2,1,7,4]\n",
    "numbers.clear()\n",
    "numbers"
   ]
  },
  {
   "cell_type": "code",
   "execution_count": 6,
   "id": "42a3de3f",
   "metadata": {},
   "outputs": [
    {
     "data": {
      "text/plain": [
       "[5, 2, 4, 1, 7]"
      ]
     },
     "execution_count": 6,
     "metadata": {},
     "output_type": "execute_result"
    }
   ],
   "source": [
    "# to remove last item on the list : pop()\n",
    "\n",
    "numbers = [5,2,4,1,7,4]\n",
    "\n",
    "numbers.pop()\n",
    "numbers\n"
   ]
  },
  {
   "cell_type": "code",
   "execution_count": 7,
   "id": "e02a38c1",
   "metadata": {},
   "outputs": [
    {
     "name": "stdout",
     "output_type": "stream",
     "text": [
      "0\n"
     ]
    }
   ],
   "source": [
    "#to check existense of item on the list \n",
    "# use index() method\n",
    "\n",
    "numbers = [5,2,4,1,7,4]\n",
    "print(numbers.index(5))"
   ]
  },
  {
   "cell_type": "code",
   "execution_count": 8,
   "id": "c0b03f69",
   "metadata": {},
   "outputs": [
    {
     "ename": "ValueError",
     "evalue": "50 is not in list",
     "output_type": "error",
     "traceback": [
      "\u001b[1;31m---------------------------------------------------------------------------\u001b[0m",
      "\u001b[1;31mValueError\u001b[0m                                Traceback (most recent call last)",
      "Cell \u001b[1;32mIn[8], line 2\u001b[0m\n\u001b[0;32m      1\u001b[0m numbers \u001b[38;5;241m=\u001b[39m [\u001b[38;5;241m5\u001b[39m,\u001b[38;5;241m2\u001b[39m,\u001b[38;5;241m4\u001b[39m,\u001b[38;5;241m1\u001b[39m,\u001b[38;5;241m7\u001b[39m,\u001b[38;5;241m4\u001b[39m]\n\u001b[1;32m----> 2\u001b[0m \u001b[38;5;28mprint\u001b[39m(numbers\u001b[38;5;241m.\u001b[39mindex(\u001b[38;5;241m50\u001b[39m))\n",
      "\u001b[1;31mValueError\u001b[0m: 50 is not in list"
     ]
    }
   ],
   "source": [
    "## to check the existence of  a character using index method \n",
    "# if the number doesnt exist , it will generate an error\n",
    "\n",
    "numbers = [5,2,4,1,7,4]\n",
    "print(numbers.index(50))"
   ]
  },
  {
   "cell_type": "code",
   "execution_count": 9,
   "id": "d27aabcf",
   "metadata": {},
   "outputs": [
    {
     "name": "stdout",
     "output_type": "stream",
     "text": [
      "False\n"
     ]
    }
   ],
   "source": [
    "# to check the existence of  a character or \n",
    "# to check a sequence of a charater in a string , use the following\n",
    "# It doesnot generate an error, it returns a boolean value \n",
    "\n",
    "numbers = [5,2,4,1,7,4]\n",
    "print (50 in numbers)"
   ]
  },
  {
   "cell_type": "code",
   "execution_count": 15,
   "id": "42329245",
   "metadata": {},
   "outputs": [
    {
     "name": "stdout",
     "output_type": "stream",
     "text": [
      "2\n"
     ]
    }
   ],
   "source": [
    "# to count the occurrance sof an item \n",
    "\n",
    "number = [5,4,6,7,8,9,1,3,5,5,6,7]\n",
    "\n",
    "print(number.count(7))"
   ]
  },
  {
   "cell_type": "code",
   "execution_count": 16,
   "id": "0b8bb556",
   "metadata": {},
   "outputs": [
    {
     "name": "stdout",
     "output_type": "stream",
     "text": [
      "3\n"
     ]
    }
   ],
   "source": [
    "print(number.count(5))"
   ]
  },
  {
   "cell_type": "code",
   "execution_count": 17,
   "id": "20e16163",
   "metadata": {},
   "outputs": [
    {
     "data": {
      "text/plain": [
       "3"
      ]
     },
     "execution_count": 17,
     "metadata": {},
     "output_type": "execute_result"
    }
   ],
   "source": [
    "number.count(5)"
   ]
  },
  {
   "cell_type": "code",
   "execution_count": 19,
   "id": "10c4bc5e",
   "metadata": {},
   "outputs": [
    {
     "data": {
      "text/plain": [
       "[1, 3, 4, 5, 5, 5, 6, 6, 7, 7, 8, 9]"
      ]
     },
     "execution_count": 19,
     "metadata": {},
     "output_type": "execute_result"
    }
   ],
   "source": [
    "#sort the list \n",
    "\n",
    "number = [5,4,6,7,8,9,1,3,5,5,6,7]\n",
    "number.sort()\n",
    "number"
   ]
  },
  {
   "cell_type": "code",
   "execution_count": 20,
   "id": "b08c98ec",
   "metadata": {},
   "outputs": [
    {
     "data": {
      "text/plain": [
       "[9, 8, 7, 7, 6, 6, 5, 5, 5, 4, 3, 1]"
      ]
     },
     "execution_count": 20,
     "metadata": {},
     "output_type": "execute_result"
    }
   ],
   "source": [
    "number = [5,4,6,7,8,9,1,3,5,5,6,7]\n",
    "number.sort()\n",
    "number.reverse()\n",
    "number"
   ]
  },
  {
   "cell_type": "code",
   "execution_count": 25,
   "id": "508af698",
   "metadata": {},
   "outputs": [
    {
     "data": {
      "text/plain": [
       "[5, 4, 6, 7, 8, 9, 1, 3, 5, 5, 6, 7]"
      ]
     },
     "execution_count": 25,
     "metadata": {},
     "output_type": "execute_result"
    }
   ],
   "source": [
    "number = [5,4,6,7,8,9,1,3,5,5,6,7]\n",
    "number2=number.copy()\n",
    "\n",
    "number.append(4)\n",
    "\n",
    "number2\n",
    "\n"
   ]
  },
  {
   "cell_type": "code",
   "execution_count": 26,
   "id": "7317fab0",
   "metadata": {},
   "outputs": [
    {
     "data": {
      "text/plain": [
       "[5, 4, 6, 7, 8, 9, 1, 3, 5, 5, 6, 7, 4]"
      ]
     },
     "execution_count": 26,
     "metadata": {},
     "output_type": "execute_result"
    }
   ],
   "source": [
    "number"
   ]
  },
  {
   "cell_type": "code",
   "execution_count": 28,
   "id": "29826f80",
   "metadata": {},
   "outputs": [
    {
     "data": {
      "text/plain": [
       "[5, 2, 4, 1, 7]"
      ]
     },
     "execution_count": 28,
     "metadata": {},
     "output_type": "execute_result"
    }
   ],
   "source": [
    "# Write a program to remove duplicates in a list \n",
    "\n",
    "numbers = [5,4,6,2,2,6,7,8,9,1,3,5,5,6,7]\n",
    "uniques=[]\n",
    "\n",
    "for item in numbers:\n",
    "    if item not in uniques:\n",
    "        uniques.append(item)\n",
    "uniques"
   ]
  },
  {
   "cell_type": "code",
   "execution_count": 30,
   "id": "b854b4c8",
   "metadata": {},
   "outputs": [
    {
     "data": {
      "text/plain": [
       "[5, 4, 6, 2, 2, 6, 7, 8, 9, 1, 3, 5, 5, 6, 7]"
      ]
     },
     "execution_count": 30,
     "metadata": {},
     "output_type": "execute_result"
    }
   ],
   "source": [
    "numbers = [5,4,6,2,2,6,7,8,9,1,3,5,5,6,7]\n",
    "uniques=[]\n",
    "\n",
    "for item in numbers:\n",
    "    \n",
    "        uniques.append(item)\n",
    "uniques"
   ]
  },
  {
   "cell_type": "code",
   "execution_count": null,
   "id": "dd2cb6c6",
   "metadata": {},
   "outputs": [],
   "source": []
  }
 ],
 "metadata": {
  "kernelspec": {
   "display_name": "Python 3 (ipykernel)",
   "language": "python",
   "name": "python3"
  },
  "language_info": {
   "codemirror_mode": {
    "name": "ipython",
    "version": 3
   },
   "file_extension": ".py",
   "mimetype": "text/x-python",
   "name": "python",
   "nbconvert_exporter": "python",
   "pygments_lexer": "ipython3",
   "version": "3.11.4"
  }
 },
 "nbformat": 4,
 "nbformat_minor": 5
}
