{
 "cells": [
  {
   "cell_type": "code",
   "execution_count": 3,
   "id": "a3a23b02",
   "metadata": {},
   "outputs": [
    {
     "name": "stdout",
     "output_type": "stream",
     "text": [
      "It's a warm day .\n",
      " Drink a lot of water \n"
     ]
    }
   ],
   "source": [
    "#choice=input (\"hows the weather ? Hot or cold : \")\n",
    "is_hot=True\n",
    "\n",
    "if is_hot:\n",
    "    print(\"It's a warm day .\\n Drink a lot of water \")\n",
    "else:\n",
    "    print(\" It's a lovely day\")"
   ]
  },
  {
   "cell_type": "code",
   "execution_count": 4,
   "id": "4392b43e",
   "metadata": {},
   "outputs": [
    {
     "name": "stdout",
     "output_type": "stream",
     "text": [
      " It's a lovely day\n"
     ]
    }
   ],
   "source": [
    "is_hot=False\n",
    "\n",
    "if is_hot:\n",
    "    print(\"It's a warm day .\\n Drink a lot of water \")\n",
    "else:\n",
    "    print(\" It's a lovely day\")"
   ]
  },
  {
   "cell_type": "code",
   "execution_count": 5,
   "id": "d5ed06e8",
   "metadata": {},
   "outputs": [
    {
     "name": "stdout",
     "output_type": "stream",
     "text": [
      " It's cold outside , wear a sweater \n"
     ]
    }
   ],
   "source": [
    "is_hot=False\n",
    "is_cold=True\n",
    "\n",
    "if is_hot:\n",
    "    print(\"It's a warm day .\\n Drink a lot of water \")\n",
    "elif is_cold:\n",
    "    print(\" It's cold outside , wear a sweater \")\n",
    "else:\n",
    "    print(\" It's a lovely day\")"
   ]
  },
  {
   "cell_type": "code",
   "execution_count": 6,
   "id": "d42d202b",
   "metadata": {},
   "outputs": [
    {
     "name": "stdout",
     "output_type": "stream",
     "text": [
      " It's a lovely day\n"
     ]
    }
   ],
   "source": [
    "is_hot=False\n",
    "is_cold=False\n",
    "\n",
    "if is_hot:\n",
    "    print(\"It's a warm day .\\n Drink a lot of water \")\n",
    "elif is_cold:\n",
    "    print(\" It's cold outside , wear a sweater \")\n",
    "else:\n",
    "    print(\" It's a lovely day\")"
   ]
  },
  {
   "cell_type": "code",
   "execution_count": 8,
   "id": "c56f88a1",
   "metadata": {},
   "outputs": [
    {
     "name": "stdout",
     "output_type": "stream",
     "text": [
      "It's a warm day .\n",
      " Drink a lot of water \n"
     ]
    }
   ],
   "source": [
    "is_hot=True\n",
    "is_cold=False\n",
    "\n",
    "if is_hot:\n",
    "    print(\"It's a warm day .\\n Drink a lot of water \")\n",
    "elif is_cold:\n",
    "    print(\" It's cold outside , wear a sweater \")\n",
    "else:\n",
    "    print(\" It's a lovely day\")"
   ]
  },
  {
   "cell_type": "code",
   "execution_count": 12,
   "id": "0390de8a",
   "metadata": {},
   "outputs": [
    {
     "name": "stdout",
     "output_type": "stream",
     "text": [
      " The price of house is 1 Million. \n",
      " A good credit is required for lower down payemnet \n",
      "whats your credit : good or bad?  \n",
      "good or bad : bad\n",
      "Downpaymnet required is 20% \n"
     ]
    }
   ],
   "source": [
    "print (\" The price of house is 1 Million. \\n A good credit is required for lower down payemnet \")\n",
    "print(\"whats your credit : good or bad?  \")\n",
    "credit =input (\"good or bad : \")\n",
    "\n",
    "if credit == 'good':\n",
    "    print(\"Downpayment required is 10% \")\n",
    "else:\n",
    "    print (\"Downpaymnet required is 20% \")\n",
    "\n"
   ]
  },
  {
   "cell_type": "code",
   "execution_count": 13,
   "id": "ccd0d5cf",
   "metadata": {},
   "outputs": [
    {
     "name": "stdout",
     "output_type": "stream",
     "text": [
      " The price of house is 1 Million. \n",
      " A good credit is required for lower down payemnet \n",
      "whats your credit : good or bad?  \n",
      "good or bad : good\n",
      "Downpayment required is 10% \n"
     ]
    }
   ],
   "source": [
    "print (\" The price of house is 1 Million. \\n A good credit is required for lower down payemnet \")\n",
    "print(\"whats your credit : good or bad?  \")\n",
    "credit =input (\"good or bad : \")\n",
    "\n",
    "if credit == 'good':\n",
    "    print(\"Downpayment required is 10% \")\n",
    "else:\n",
    "    print (\"Downpaymnet required is 20% \")\n",
    "\n"
   ]
  },
  {
   "cell_type": "code",
   "execution_count": 15,
   "id": "5c095a55",
   "metadata": {},
   "outputs": [
    {
     "name": "stdout",
     "output_type": "stream",
     "text": [
      "Down Paymnet : $100000.0\n"
     ]
    }
   ],
   "source": [
    "price = 1000000\n",
    "has_good_credit = True \n",
    "if has_good_credit:\n",
    "    down_payment = 0.1 * price\n",
    "else :\n",
    "    down_payment = 0.2 * price\n",
    "\n",
    "print(f\"Down Paymnet : ${down_payment }\") "
   ]
  },
  {
   "cell_type": "code",
   "execution_count": 16,
   "id": "3962b2a0",
   "metadata": {},
   "outputs": [
    {
     "name": "stdout",
     "output_type": "stream",
     "text": [
      "eligible for loan \n"
     ]
    }
   ],
   "source": [
    "has_high_income = True\n",
    "has_good_credit =True\n",
    "\n",
    "if has_high_income and has_good_credit :\n",
    "    print (\"eligible for loan \")\n"
   ]
  },
  {
   "cell_type": "code",
   "execution_count": 21,
   "id": "46c543d4",
   "metadata": {},
   "outputs": [
    {
     "name": "stdout",
     "output_type": "stream",
     "text": [
      "not eligible\n"
     ]
    }
   ],
   "source": [
    "has_high_income = True\n",
    "has_good_credit =False\n",
    "\n",
    "if has_high_income and has_good_credit :\n",
    "    print (\"eligible for loan \")\n",
    "else:\n",
    "    print (\"not eligible\")"
   ]
  },
  {
   "cell_type": "code",
   "execution_count": 22,
   "id": "bd4bfef4",
   "metadata": {},
   "outputs": [
    {
     "name": "stdout",
     "output_type": "stream",
     "text": [
      "not eligible\n"
     ]
    }
   ],
   "source": [
    "has_high_income = False\n",
    "has_good_credit = True\n",
    "\n",
    "if has_high_income and has_good_credit :\n",
    "    print (\"eligible for loan \")\n",
    "else:\n",
    "    print (\"not eligible\")"
   ]
  },
  {
   "cell_type": "code",
   "execution_count": 23,
   "id": "a1142e9d",
   "metadata": {},
   "outputs": [
    {
     "name": "stdout",
     "output_type": "stream",
     "text": [
      "not eligible\n"
     ]
    }
   ],
   "source": [
    "has_high_income = False\n",
    "has_good_credit = False\n",
    "\n",
    "if has_high_income and has_good_credit :\n",
    "    print (\"eligible for loan \")\n",
    "else:\n",
    "    print (\"not eligible\")"
   ]
  },
  {
   "cell_type": "code",
   "execution_count": 24,
   "id": "e925e181",
   "metadata": {},
   "outputs": [
    {
     "name": "stdout",
     "output_type": "stream",
     "text": [
      "eligible for loan \n"
     ]
    }
   ],
   "source": [
    "has_high_income = False\n",
    "has_good_credit = True\n",
    "\n",
    "if has_high_income or has_good_credit :\n",
    "    print (\"eligible for loan \")\n",
    "else:\n",
    "    print (\"not eligible\")"
   ]
  },
  {
   "cell_type": "code",
   "execution_count": null,
   "id": "78dc3b2c",
   "metadata": {},
   "outputs": [],
   "source": [
    "# And operator : both conditions needs to be true \n",
    "# Or operator : Atleast one of the condition must be True"
   ]
  }
 ],
 "metadata": {
  "kernelspec": {
   "display_name": "Python 3 (ipykernel)",
   "language": "python",
   "name": "python3"
  },
  "language_info": {
   "codemirror_mode": {
    "name": "ipython",
    "version": 3
   },
   "file_extension": ".py",
   "mimetype": "text/x-python",
   "name": "python",
   "nbconvert_exporter": "python",
   "pygments_lexer": "ipython3",
   "version": "3.11.4"
  }
 },
 "nbformat": 4,
 "nbformat_minor": 5
}
