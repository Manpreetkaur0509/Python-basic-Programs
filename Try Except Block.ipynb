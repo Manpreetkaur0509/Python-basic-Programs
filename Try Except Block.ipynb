{
 "cells": [
  {
   "cell_type": "markdown",
   "id": "88b6d649",
   "metadata": {},
   "source": [
    "## Try Except blocks:"
   ]
  },
  {
   "cell_type": "code",
   "execution_count": 1,
   "id": "f6821aad",
   "metadata": {},
   "outputs": [
    {
     "name": "stdout",
     "output_type": "stream",
     "text": [
      "Age23\n",
      "23\n"
     ]
    }
   ],
   "source": [
    "age= int(input('Age'))\n",
    "print(age)"
   ]
  },
  {
   "cell_type": "code",
   "execution_count": 3,
   "id": "c81fbbe3",
   "metadata": {},
   "outputs": [
    {
     "name": "stdout",
     "output_type": "stream",
     "text": [
      "Agedsgsdg\n"
     ]
    },
    {
     "ename": "ValueError",
     "evalue": "invalid literal for int() with base 10: 'dsgsdg'",
     "output_type": "error",
     "traceback": [
      "\u001b[1;31m---------------------------------------------------------------------------\u001b[0m",
      "\u001b[1;31mValueError\u001b[0m                                Traceback (most recent call last)",
      "Cell \u001b[1;32mIn[3], line 1\u001b[0m\n\u001b[1;32m----> 1\u001b[0m age\u001b[38;5;241m=\u001b[39m \u001b[38;5;28mint\u001b[39m(\u001b[38;5;28minput\u001b[39m(\u001b[38;5;124m'\u001b[39m\u001b[38;5;124mAge\u001b[39m\u001b[38;5;124m'\u001b[39m))\n\u001b[0;32m      2\u001b[0m \u001b[38;5;28mprint\u001b[39m(age)\n",
      "\u001b[1;31mValueError\u001b[0m: invalid literal for int() with base 10: 'dsgsdg'"
     ]
    }
   ],
   "source": [
    "age= int(input('Age'))\n",
    "print(age)"
   ]
  },
  {
   "cell_type": "code",
   "execution_count": 9,
   "id": "c43483a8",
   "metadata": {},
   "outputs": [
    {
     "name": "stdout",
     "output_type": "stream",
     "text": [
      " Agemani\n",
      "Invalid Value\n"
     ]
    }
   ],
   "source": [
    "try:\n",
    "    age= int(input (' Age'))\n",
    "    print(age)\n",
    "except ValueError:\n",
    "    print(\"Invalid Value\")\n",
    "\n",
    "        \n",
    "\n"
   ]
  },
  {
   "cell_type": "code",
   "execution_count": 10,
   "id": "56b50eb9",
   "metadata": {},
   "outputs": [
    {
     "name": "stdout",
     "output_type": "stream",
     "text": [
      "Age0\n"
     ]
    },
    {
     "ename": "NameError",
     "evalue": "name 'valueError' is not defined",
     "output_type": "error",
     "traceback": [
      "\u001b[1;31m---------------------------------------------------------------------------\u001b[0m",
      "\u001b[1;31mZeroDivisionError\u001b[0m                         Traceback (most recent call last)",
      "Cell \u001b[1;32mIn[10], line 4\u001b[0m\n\u001b[0;32m      3\u001b[0m income\u001b[38;5;241m=\u001b[39m \u001b[38;5;241m30000\u001b[39m\n\u001b[1;32m----> 4\u001b[0m risk\u001b[38;5;241m=\u001b[39m income\u001b[38;5;241m/\u001b[39mage\n\u001b[0;32m      5\u001b[0m \u001b[38;5;28mprint\u001b[39m(age)\n",
      "\u001b[1;31mZeroDivisionError\u001b[0m: division by zero",
      "\nDuring handling of the above exception, another exception occurred:\n",
      "\u001b[1;31mNameError\u001b[0m                                 Traceback (most recent call last)",
      "Cell \u001b[1;32mIn[10], line 6\u001b[0m\n\u001b[0;32m      4\u001b[0m     risk\u001b[38;5;241m=\u001b[39m income\u001b[38;5;241m/\u001b[39mage\n\u001b[0;32m      5\u001b[0m     \u001b[38;5;28mprint\u001b[39m(age)\n\u001b[1;32m----> 6\u001b[0m \u001b[38;5;28;01mexcept\u001b[39;00m valueError:\n\u001b[0;32m      7\u001b[0m     \u001b[38;5;28mprint\u001b[39m(\u001b[38;5;124m\"\u001b[39m\u001b[38;5;124mInvalid Value\u001b[39m\u001b[38;5;124m\"\u001b[39m)\n",
      "\u001b[1;31mNameError\u001b[0m: name 'valueError' is not defined"
     ]
    }
   ],
   "source": [
    "try:\n",
    "    age= int(input('Age'))\n",
    "    income= 30000\n",
    "    risk= income/age\n",
    "    print(age)\n",
    "except valueError:\n",
    "    print(\"Invalid Value\")\n"
   ]
  },
  {
   "cell_type": "code",
   "execution_count": 13,
   "id": "62898fbd",
   "metadata": {},
   "outputs": [
    {
     "name": "stdout",
     "output_type": "stream",
     "text": [
      "Age0\n",
      "Age cant be zero\n"
     ]
    }
   ],
   "source": [
    "try:\n",
    "    age= int(input('Age'))\n",
    "    income= 30000\n",
    "    risk= income/age\n",
    "    print(age)\n",
    "except ZeroDivisionError:\n",
    "    print(\"Age cant be zero\")\n",
    "except valueError:\n",
    "    print(\"Invalid Value\")\n"
   ]
  },
  {
   "cell_type": "code",
   "execution_count": null,
   "id": "853aa890",
   "metadata": {},
   "outputs": [],
   "source": []
  }
 ],
 "metadata": {
  "kernelspec": {
   "display_name": "Python 3 (ipykernel)",
   "language": "python",
   "name": "python3"
  },
  "language_info": {
   "codemirror_mode": {
    "name": "ipython",
    "version": 3
   },
   "file_extension": ".py",
   "mimetype": "text/x-python",
   "name": "python",
   "nbconvert_exporter": "python",
   "pygments_lexer": "ipython3",
   "version": "3.11.4"
  }
 },
 "nbformat": 4,
 "nbformat_minor": 5
}
