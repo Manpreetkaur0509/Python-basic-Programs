{
 "cells": [
  {
   "cell_type": "code",
   "execution_count": null,
   "id": "a75763eb",
   "metadata": {},
   "outputs": [],
   "source": [
    "### If Else statements\n"
   ]
  },
  {
   "cell_type": "code",
   "execution_count": 9,
   "id": "ea063f8f",
   "metadata": {},
   "outputs": [
    {
     "name": "stdout",
     "output_type": "stream",
     "text": [
      " how much is temp in celcius ? 34\n",
      "It's a hot day \n"
     ]
    }
   ],
   "source": [
    "Temp = input (\" how much is temp in celcius ? \") \n",
    "\n",
    "if int(Temp) > 30:\n",
    "    print(\"It's a hot day \")\n",
    "else:\n",
    "    print(\" It's not a hot day \")"
   ]
  },
  {
   "cell_type": "code",
   "execution_count": 10,
   "id": "10abfab1",
   "metadata": {},
   "outputs": [
    {
     "name": "stdout",
     "output_type": "stream",
     "text": [
      " how much is temp in celcius ? -5\n",
      " It's not a hot day \n"
     ]
    }
   ],
   "source": [
    "Temp = input (\" how much is temp in celcius ? \") \n",
    "\n",
    "if int(Temp) > 30:\n",
    "    print(\"It's a hot day \")\n",
    "else:\n",
    "    print(\" It's not a hot day \")\n",
    "    "
   ]
  },
  {
   "cell_type": "code",
   "execution_count": 15,
   "id": "7702b006",
   "metadata": {},
   "outputs": [
    {
     "name": "stdout",
     "output_type": "stream",
     "text": [
      " how much is temp in celcius ? 30\n",
      " It's not a hot day \n"
     ]
    }
   ],
   "source": [
    "Temp = input (\" how much is temp in celcius ? \") \n",
    "\n",
    "if int(Temp) > 30:\n",
    "    print(\"It's a hot day \")\n",
    "elif int(Temp) == 0:\n",
    "    print (\" It may snow today\")\n",
    "    \n",
    "elif int(Temp) < 0:\n",
    "    print (\"It's Cold today .\\n Wear a sweater \")\n",
    "\n",
    "else:\n",
    "    print(\" It's not a hot day \")"
   ]
  },
  {
   "cell_type": "code",
   "execution_count": 17,
   "id": "d961c358",
   "metadata": {},
   "outputs": [
    {
     "name": "stdout",
     "output_type": "stream",
     "text": [
      "Enter your Name:  mm\n",
      "name must be minimum 3 characters long \n"
     ]
    }
   ],
   "source": [
    "name= input(\"Enter your Name:  \")\n",
    "\n",
    "if len(name) < 3:\n",
    "    print(\"name must be minimum 3 characters long \")\n",
    "elif len(name )> 50 :\n",
    "    print (\" Maximum lenghth of your name cant be greater than 50 \")\n",
    "else:\n",
    "    print(\" Name looks good \")\n",
    "\n"
   ]
  },
  {
   "cell_type": "code",
   "execution_count": 27,
   "id": "3642cbfb",
   "metadata": {},
   "outputs": [
    {
     "name": "stdout",
     "output_type": "stream",
     "text": [
      "Enter your weight : 45\n",
      "L(bs) or K(g): k\n",
      "Your weight is 99.0 pounds\n"
     ]
    }
   ],
   "source": [
    "weight = int(input (\"Enter your weight : \"))\n",
    "unit = input (\"L(bs) or K(g): \")\n",
    "if unit.upper == \"L\":\n",
    "    converted_weight = weight * 0.450\n",
    "    print(f\"Your weight is {converted_weight} kg.\")\n",
    "else:\n",
    "    converted_weight = weight// 0.450\n",
    "    print(f\"Your weight is {converted_weight} pounds\")\n"
   ]
  },
  {
   "cell_type": "code",
   "execution_count": 28,
   "id": "b3469a51",
   "metadata": {},
   "outputs": [
    {
     "name": "stdout",
     "output_type": "stream",
     "text": [
      "Enter your weight : 135\n",
      "L(bs) or K(g): l\n",
      "Your weight is 299.0 pounds\n"
     ]
    }
   ],
   "source": [
    "weight = int(input (\"Enter your weight : \"))\n",
    "unit = input (\"L(bs) or K(g): \")\n",
    "if unit.upper == \"L\":\n",
    "    converted_weight = weight * 0.450\n",
    "    print(f\"Your weight is {converted_weight} kg.\")\n",
    "else:\n",
    "    converted_weight = weight// 0.450\n",
    "    print(f\"Your weight is {converted_weight} pounds\")"
   ]
  },
  {
   "cell_type": "code",
   "execution_count": null,
   "id": "909e90cf",
   "metadata": {},
   "outputs": [],
   "source": []
  }
 ],
 "metadata": {
  "kernelspec": {
   "display_name": "Python 3 (ipykernel)",
   "language": "python",
   "name": "python3"
  },
  "language_info": {
   "codemirror_mode": {
    "name": "ipython",
    "version": 3
   },
   "file_extension": ".py",
   "mimetype": "text/x-python",
   "name": "python",
   "nbconvert_exporter": "python",
   "pygments_lexer": "ipython3",
   "version": "3.11.4"
  }
 },
 "nbformat": 4,
 "nbformat_minor": 5
}
