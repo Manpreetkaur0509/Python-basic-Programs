{
 "cells": [
  {
   "cell_type": "code",
   "execution_count": 1,
   "id": "7f5ea13c",
   "metadata": {},
   "outputs": [],
   "source": [
    "matrix =[\n",
    "    [1,2,3],\n",
    "    [4,5,6],\n",
    "    [7,8,9],\n",
    "]\n"
   ]
  },
  {
   "cell_type": "code",
   "execution_count": 3,
   "id": "54328d26",
   "metadata": {},
   "outputs": [
    {
     "name": "stdout",
     "output_type": "stream",
     "text": [
      "[1, 2, 3]\n"
     ]
    }
   ],
   "source": [
    "print (matrix[0])"
   ]
  },
  {
   "cell_type": "code",
   "execution_count": 4,
   "id": "4f29274b",
   "metadata": {},
   "outputs": [
    {
     "name": "stdout",
     "output_type": "stream",
     "text": [
      "[4, 5, 6]\n"
     ]
    }
   ],
   "source": [
    "print (matrix[1])"
   ]
  },
  {
   "cell_type": "code",
   "execution_count": 5,
   "id": "ea27bdff",
   "metadata": {},
   "outputs": [
    {
     "name": "stdout",
     "output_type": "stream",
     "text": [
      "[7, 8, 9]\n"
     ]
    }
   ],
   "source": [
    "print (matrix[2])"
   ]
  },
  {
   "cell_type": "code",
   "execution_count": 7,
   "id": "b6622bcd",
   "metadata": {},
   "outputs": [
    {
     "name": "stdout",
     "output_type": "stream",
     "text": [
      "2\n"
     ]
    }
   ],
   "source": [
    "#to access individual items ,we have to use double square brackets \n",
    "\n",
    "print (matrix[0][1])"
   ]
  },
  {
   "cell_type": "code",
   "execution_count": 8,
   "id": "2edf7a6e",
   "metadata": {},
   "outputs": [
    {
     "name": "stdout",
     "output_type": "stream",
     "text": [
      "1\n"
     ]
    }
   ],
   "source": [
    "print (matrix[0][0])"
   ]
  },
  {
   "cell_type": "code",
   "execution_count": 10,
   "id": "f9e2b72d",
   "metadata": {},
   "outputs": [
    {
     "name": "stdout",
     "output_type": "stream",
     "text": [
      "9\n"
     ]
    }
   ],
   "source": [
    "print (matrix[2][2])"
   ]
  },
  {
   "cell_type": "code",
   "execution_count": 14,
   "id": "9003e15c",
   "metadata": {},
   "outputs": [
    {
     "name": "stdout",
     "output_type": "stream",
     "text": [
      "3\n"
     ]
    }
   ],
   "source": [
    "print (matrix[0][2])"
   ]
  },
  {
   "cell_type": "code",
   "execution_count": 18,
   "id": "72a7d377",
   "metadata": {},
   "outputs": [
    {
     "name": "stdout",
     "output_type": "stream",
     "text": [
      "20\n"
     ]
    }
   ],
   "source": [
    "#modify matrx\n",
    "\n",
    "matrix =[\n",
    "    [1,2,3],\n",
    "    [4,5,6],\n",
    "    [7,8,9],\n",
    "]\n",
    "\n",
    "matrix[0][2] = 20\n",
    "print (matrix[0][2])"
   ]
  },
  {
   "cell_type": "code",
   "execution_count": 19,
   "id": "81284d21",
   "metadata": {},
   "outputs": [
    {
     "name": "stdout",
     "output_type": "stream",
     "text": [
      "39\n"
     ]
    }
   ],
   "source": [
    "matrix[2][2]= 39\n",
    "print (matrix[2][2])"
   ]
  },
  {
   "cell_type": "code",
   "execution_count": 20,
   "id": "f3690af1",
   "metadata": {},
   "outputs": [
    {
     "name": "stdout",
     "output_type": "stream",
     "text": [
      "1\n",
      "2\n",
      "3\n",
      "4\n",
      "5\n",
      "6\n",
      "7\n",
      "8\n",
      "9\n"
     ]
    }
   ],
   "source": [
    "# nested loops\n",
    "\n",
    "matrix =[\n",
    "    [1,2,3],\n",
    "    [4,5,6],\n",
    "    [7,8,9],\n",
    "]\n",
    "\n",
    "for row in matrix:\n",
    "    for item in row:\n",
    "        print(item)"
   ]
  },
  {
   "cell_type": "code",
   "execution_count": null,
   "id": "3da00ecb",
   "metadata": {},
   "outputs": [],
   "source": []
  }
 ],
 "metadata": {
  "kernelspec": {
   "display_name": "Python 3 (ipykernel)",
   "language": "python",
   "name": "python3"
  },
  "language_info": {
   "codemirror_mode": {
    "name": "ipython",
    "version": 3
   },
   "file_extension": ".py",
   "mimetype": "text/x-python",
   "name": "python",
   "nbconvert_exporter": "python",
   "pygments_lexer": "ipython3",
   "version": "3.11.4"
  }
 },
 "nbformat": 4,
 "nbformat_minor": 5
}
