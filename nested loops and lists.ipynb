{
 "cells": [
  {
   "cell_type": "code",
   "execution_count": 1,
   "id": "2513a551",
   "metadata": {},
   "outputs": [
    {
     "name": "stdout",
     "output_type": "stream",
     "text": [
      "0\n",
      "1\n",
      "2\n",
      "3\n"
     ]
    }
   ],
   "source": [
    "## loops\n",
    "\n",
    "for x in range(4):\n",
    "    print(x)"
   ]
  },
  {
   "cell_type": "code",
   "execution_count": 3,
   "id": "81ffb72e",
   "metadata": {
    "scrolled": true
   },
   "outputs": [
    {
     "name": "stdout",
     "output_type": "stream",
     "text": [
      "(0,0)\n",
      "(0,1)\n",
      "(0,2)\n",
      "(1,0)\n",
      "(1,1)\n",
      "(1,2)\n",
      "(2,0)\n",
      "(2,1)\n",
      "(2,2)\n",
      "(3,0)\n",
      "(3,1)\n",
      "(3,2)\n"
     ]
    }
   ],
   "source": [
    "#nested loop\n",
    "\n",
    "for x in range(4):\n",
    "    for y in range(3):\n",
    "        print(f'({x},{y})')"
   ]
  },
  {
   "cell_type": "code",
   "execution_count": 4,
   "id": "a4f7ef84",
   "metadata": {},
   "outputs": [
    {
     "name": "stdout",
     "output_type": "stream",
     "text": [
      "5\n",
      "2\n",
      "5\n",
      "2\n",
      "2\n"
     ]
    }
   ],
   "source": [
    "numbers=[5,2,5,2,2]\n",
    "for i in numbers:\n",
    "    print(i)"
   ]
  },
  {
   "cell_type": "code",
   "execution_count": 5,
   "id": "71e15bb8",
   "metadata": {},
   "outputs": [
    {
     "name": "stdout",
     "output_type": "stream",
     "text": [
      "*****\n",
      "**\n",
      "*****\n",
      "**\n",
      "**\n"
     ]
    }
   ],
   "source": [
    "numbers=[5,2,5,2,2]\n",
    "for i in numbers:\n",
    "    print(i * \"*\")"
   ]
  },
  {
   "cell_type": "code",
   "execution_count": 8,
   "id": "5ffa6230",
   "metadata": {},
   "outputs": [
    {
     "name": "stdout",
     "output_type": "stream",
     "text": [
      "*****\n",
      "**\n",
      "*****\n",
      "**\n",
      "**\n"
     ]
    }
   ],
   "source": [
    "# nested loops\n",
    "\n",
    "numbers=[5,2,5,2,2]\n",
    "for i in numbers:\n",
    "    output=''\n",
    "    for count in range(i):\n",
    "        output+='*'\n",
    "    print (output)\n",
    "    "
   ]
  },
  {
   "cell_type": "code",
   "execution_count": 9,
   "id": "d5a13888",
   "metadata": {},
   "outputs": [
    {
     "name": "stdout",
     "output_type": "stream",
     "text": [
      "Prasandeep\n"
     ]
    }
   ],
   "source": [
    "names = ['John', 'Bob', 'Mosh','Sarah','Manpreet','Prasandeep']\n",
    "print(names[-1])"
   ]
  },
  {
   "cell_type": "code",
   "execution_count": 10,
   "id": "80bfe3b8",
   "metadata": {},
   "outputs": [
    {
     "name": "stdout",
     "output_type": "stream",
     "text": [
      "John\n"
     ]
    }
   ],
   "source": [
    "names = ['John', 'Bob', 'Mosh','Sarah','Manpreet','Prasandeep']\n",
    "print(names[0])"
   ]
  },
  {
   "cell_type": "code",
   "execution_count": 11,
   "id": "0ac43a4d",
   "metadata": {},
   "outputs": [
    {
     "name": "stdout",
     "output_type": "stream",
     "text": [
      "Bob\n"
     ]
    }
   ],
   "source": [
    "names = ['John', 'Bob', 'Mosh','Sarah','Manpreet','Prasandeep']\n",
    "print(names[1])"
   ]
  },
  {
   "cell_type": "code",
   "execution_count": 12,
   "id": "775f5bf4",
   "metadata": {},
   "outputs": [
    {
     "name": "stdout",
     "output_type": "stream",
     "text": [
      "['Mosh', 'Sarah']\n"
     ]
    }
   ],
   "source": [
    "names = ['John', 'Bob', 'Mosh','Sarah','Manpreet','Prasandeep']\n",
    "print(names[2:4])"
   ]
  },
  {
   "cell_type": "code",
   "execution_count": 13,
   "id": "44dcfdc9",
   "metadata": {},
   "outputs": [
    {
     "name": "stdout",
     "output_type": "stream",
     "text": [
      "['Mosh', 'Sarah', 'Manpreet', 'Prasandeep']\n"
     ]
    }
   ],
   "source": [
    "names = ['John', 'Bob', 'Mosh','Sarah','Manpreet','Prasandeep']\n",
    "print(names[2:])"
   ]
  },
  {
   "cell_type": "code",
   "execution_count": 14,
   "id": "e52f7d3d",
   "metadata": {},
   "outputs": [
    {
     "name": "stdout",
     "output_type": "stream",
     "text": [
      "['John', 'Bob', 'Mosh', 'Sarah', 'Manpreet', 'Prasandeep']\n"
     ]
    }
   ],
   "source": [
    "names = ['John', 'Bob', 'Mosh','Sarah','Manpreet','Prasandeep']\n",
    "print(names[:])"
   ]
  },
  {
   "cell_type": "code",
   "execution_count": 15,
   "id": "7926f0dc",
   "metadata": {},
   "outputs": [
    {
     "name": "stdout",
     "output_type": "stream",
     "text": [
      "['John', 'Bob']\n"
     ]
    }
   ],
   "source": [
    "names = ['John', 'Bob', 'Mosh','Sarah','Manpreet','Prasandeep']\n",
    "print(names[:2])"
   ]
  },
  {
   "cell_type": "code",
   "execution_count": 16,
   "id": "29c7ddf4",
   "metadata": {},
   "outputs": [
    {
     "name": "stdout",
     "output_type": "stream",
     "text": [
      "['Mosh', 'Sarah', 'Manpreet', 'Prasandeep']\n",
      "['John', 'Bob', 'Mosh', 'Sarah', 'Manpreet', 'Prasandeep']\n"
     ]
    }
   ],
   "source": [
    "names = ['John', 'Bob', 'Mosh','Sarah','Manpreet','Prasandeep']\n",
    "print(names[2:])\n",
    "print(names)"
   ]
  },
  {
   "cell_type": "code",
   "execution_count": 17,
   "id": "6152e539",
   "metadata": {},
   "outputs": [
    {
     "name": "stdout",
     "output_type": "stream",
     "text": [
      "['Jon', 'Bob', 'Mosh', 'Sarah', 'Manpreet', 'Prasandeep']\n"
     ]
    }
   ],
   "source": [
    "#modifying list \n",
    "\n",
    "names = ['John', 'Bob', 'Mosh','Sarah','Manpreet','Prasandeep']\n",
    "names[0]='Jon'\n",
    "print(names)"
   ]
  },
  {
   "cell_type": "code",
   "execution_count": 20,
   "id": "213783a4",
   "metadata": {},
   "outputs": [
    {
     "ename": "SyntaxError",
     "evalue": "cannot assign to function call (2435239398.py, line 5)",
     "output_type": "error",
     "traceback": [
      "\u001b[1;36m  Cell \u001b[1;32mIn[20], line 5\u001b[1;36m\u001b[0m\n\u001b[1;33m    for int(i) in num:\u001b[0m\n\u001b[1;37m        ^\u001b[0m\n\u001b[1;31mSyntaxError\u001b[0m\u001b[1;31m:\u001b[0m cannot assign to function call\n"
     ]
    }
   ],
   "source": [
    "# Write a program to find the largest number in a list \n",
    "\n",
    "\n",
    "num=[2,5,7,8,9,10]\n",
    "for int(i) in num:\n",
    "    if i[0]>i[1]:\n",
    "        print (i)\n",
    "    else:\n",
    "        i=i+1\n",
    "print(i)     \n",
    "        \n",
    "    "
   ]
  },
  {
   "cell_type": "code",
   "execution_count": 21,
   "id": "77284255",
   "metadata": {},
   "outputs": [
    {
     "name": "stdout",
     "output_type": "stream",
     "text": [
      "The largest number in the list is: 10\n"
     ]
    }
   ],
   "source": [
    "num = [2, 5, 7, 8, 9, 10]\n",
    "\n",
    "# Initialize a variable to store the largest number\n",
    "largest = num[0]\n",
    "\n",
    "# Iterate through the list to find the largest number\n",
    "for i in num:\n",
    "    if i > largest:\n",
    "        largest = i\n",
    "\n",
    "# Print the largest number\n",
    "print(\"The largest number in the list is:\", largest)\n"
   ]
  },
  {
   "cell_type": "code",
   "execution_count": 22,
   "id": "a58be588",
   "metadata": {},
   "outputs": [
    {
     "name": "stdout",
     "output_type": "stream",
     "text": [
      "The largest number in the list is: 10\n"
     ]
    }
   ],
   "source": [
    "num = [2, 5, 7, 8, 9, 10]\n",
    "\n",
    "largest = max(num)\n",
    "\n",
    "print(\"The largest number in the list is:\", largest)\n"
   ]
  },
  {
   "cell_type": "code",
   "execution_count": 23,
   "id": "6e59f34b",
   "metadata": {},
   "outputs": [
    {
     "name": "stdout",
     "output_type": "stream",
     "text": [
      "The largest number in the list is: 10\n"
     ]
    }
   ],
   "source": [
    "num = [2, 5, 7, 8, 9, 10]\n",
    "\n",
    "largest = num[0]  # Assume the first number is the largest\n",
    "\n",
    "# Iterate through the list, starting from the second number\n",
    "for i in range(1, len(num)):\n",
    "    if num[i] > largest:\n",
    "        largest = num[i]\n",
    "\n",
    "print(\"The largest number in the list is:\", largest)\n"
   ]
  },
  {
   "cell_type": "code",
   "execution_count": 24,
   "id": "66842f50",
   "metadata": {},
   "outputs": [
    {
     "name": "stdout",
     "output_type": "stream",
     "text": [
      "10\n"
     ]
    }
   ],
   "source": [
    "numbers =[3,6,2,10,8,4]\n",
    "max= numbers[0]\n",
    "for number in numbers:\n",
    "    if number >max:\n",
    "        max=number\n",
    "print(max)"
   ]
  },
  {
   "cell_type": "code",
   "execution_count": null,
   "id": "a237834a",
   "metadata": {},
   "outputs": [],
   "source": []
  }
 ],
 "metadata": {
  "kernelspec": {
   "display_name": "Python 3 (ipykernel)",
   "language": "python",
   "name": "python3"
  },
  "language_info": {
   "codemirror_mode": {
    "name": "ipython",
    "version": 3
   },
   "file_extension": ".py",
   "mimetype": "text/x-python",
   "name": "python",
   "nbconvert_exporter": "python",
   "pygments_lexer": "ipython3",
   "version": "3.11.4"
  }
 },
 "nbformat": 4,
 "nbformat_minor": 5
}
